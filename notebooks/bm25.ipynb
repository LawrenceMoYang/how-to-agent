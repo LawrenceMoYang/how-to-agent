{
 "cells": [
  {
   "cell_type": "code",
   "id": "initial_id",
   "metadata": {
    "collapsed": true,
    "ExecuteTime": {
     "end_time": "2024-12-24T02:33:53.781143Z",
     "start_time": "2024-12-24T02:33:53.752286Z"
    }
   },
   "source": [
    "import pandas as pd\n",
    "import matplotlib.pyplot as plt\n",
    "from rank_bm25 import BM25Okapi     # https://github.com/dorianbrown/rank_bm25\n",
    "\n",
    "# Get the top n of result\n",
    "top_n = 5\n",
    "\n",
    "\n",
    "content_data_path_1 = \"../demos/demo_v0/resources/content/help_guides_data.json\"\n",
    "content_data_path_2 = \"../demos/demo_v0/resources/content/sellercenter_crawled_data.json\"\n",
    "content_df1 = pd.read_json(content_data_path_1)\n",
    "content_df2 = pd.read_json(content_data_path_2)\n",
    "content_result = pd.concat([content_df1, content_df2], ignore_index=True)\n",
    "content_result.to_json(\"content_data_merged.json\", index=False)\n",
    "\n",
    "# Load labeled data\n",
    "labeled_data_path_1 = \"../data/eval/output/help_guides/questions.json\"\n",
    "labeled_data_path_2 = \"../data/eval/output/seller_center/questions.json\"\n",
    "labeled_df1 = pd.read_json(labeled_data_path_1)\n",
    "labeled_df2 = pd.read_json(labeled_data_path_2)\n",
    "labeled_result = pd.concat([labeled_df1, labeled_df2], ignore_index=True)\n",
    "labeled_result.to_json(\"labeled_data_merged.json\", index=False)"
   ],
   "outputs": [],
   "execution_count": 120
  },
  {
   "metadata": {
    "ExecuteTime": {
     "end_time": "2024-12-24T02:33:54.402011Z",
     "start_time": "2024-12-24T02:33:54.396635Z"
    }
   },
   "cell_type": "code",
   "source": "labeled_result",
   "id": "30be984445c4bd33",
   "outputs": [
    {
     "data": {
      "text/plain": [
       "                                               question  \\\n",
       "0           What are the two ways to buy items on eBay?   \n",
       "1           How can I track my buying activity on eBay?   \n",
       "2     What should I do if an item I bought hasn't ar...   \n",
       "3                   How can I make an offer on an item?   \n",
       "4     What options do I have if I want to cancel my ...   \n",
       "...                                                 ...   \n",
       "1375  What is the new feature being introduced for e...   \n",
       "1376         How will combined shipping benefit buyers?   \n",
       "1377  Can sellers offer multiple shipping options fo...   \n",
       "1378  What are the current price limits for eBay Int...   \n",
       "1379  What will be the default shipping option shown...   \n",
       "\n",
       "                                                 answer  \\\n",
       "0     You can buy items on eBay either with Buy It N...   \n",
       "1     You can keep track of all your buying activity...   \n",
       "2     You can get help with an item that hasn't arri...   \n",
       "3     On some listings, sellers accept offers, and y...   \n",
       "4     If you've bought an item and made a mistake, e...   \n",
       "...                                                 ...   \n",
       "1375  The new feature being introduced is combined s...   \n",
       "1376  Combined shipping will offer lower shipping co...   \n",
       "1377  Yes, sellers will soon be able to offer both e...   \n",
       "1378  Items up to $2,500 are eligible for eBay Inter...   \n",
       "1379  During the initial launch, the default shippin...   \n",
       "\n",
       "                                                    url  \n",
       "0     https://www.ebay.com/help/buying/buy-now/buyin...  \n",
       "1     https://www.ebay.com/help/buying/buy-now/buyin...  \n",
       "2     https://www.ebay.com/help/buying/buy-now/buyin...  \n",
       "3     https://www.ebay.com/help/buying/buy-now/buyin...  \n",
       "4     https://www.ebay.com/help/buying/buy-now/buyin...  \n",
       "...                                                 ...  \n",
       "1375  https://www.ebay.com/sellercenter/resources/se...  \n",
       "1376  https://www.ebay.com/sellercenter/resources/se...  \n",
       "1377  https://www.ebay.com/sellercenter/resources/se...  \n",
       "1378  https://www.ebay.com/sellercenter/resources/se...  \n",
       "1379  https://www.ebay.com/sellercenter/resources/se...  \n",
       "\n",
       "[1380 rows x 3 columns]"
      ],
      "text/html": [
       "<div>\n",
       "<style scoped>\n",
       "    .dataframe tbody tr th:only-of-type {\n",
       "        vertical-align: middle;\n",
       "    }\n",
       "\n",
       "    .dataframe tbody tr th {\n",
       "        vertical-align: top;\n",
       "    }\n",
       "\n",
       "    .dataframe thead th {\n",
       "        text-align: right;\n",
       "    }\n",
       "</style>\n",
       "<table border=\"1\" class=\"dataframe\">\n",
       "  <thead>\n",
       "    <tr style=\"text-align: right;\">\n",
       "      <th></th>\n",
       "      <th>question</th>\n",
       "      <th>answer</th>\n",
       "      <th>url</th>\n",
       "    </tr>\n",
       "  </thead>\n",
       "  <tbody>\n",
       "    <tr>\n",
       "      <th>0</th>\n",
       "      <td>What are the two ways to buy items on eBay?</td>\n",
       "      <td>You can buy items on eBay either with Buy It N...</td>\n",
       "      <td>https://www.ebay.com/help/buying/buy-now/buyin...</td>\n",
       "    </tr>\n",
       "    <tr>\n",
       "      <th>1</th>\n",
       "      <td>How can I track my buying activity on eBay?</td>\n",
       "      <td>You can keep track of all your buying activity...</td>\n",
       "      <td>https://www.ebay.com/help/buying/buy-now/buyin...</td>\n",
       "    </tr>\n",
       "    <tr>\n",
       "      <th>2</th>\n",
       "      <td>What should I do if an item I bought hasn't ar...</td>\n",
       "      <td>You can get help with an item that hasn't arri...</td>\n",
       "      <td>https://www.ebay.com/help/buying/buy-now/buyin...</td>\n",
       "    </tr>\n",
       "    <tr>\n",
       "      <th>3</th>\n",
       "      <td>How can I make an offer on an item?</td>\n",
       "      <td>On some listings, sellers accept offers, and y...</td>\n",
       "      <td>https://www.ebay.com/help/buying/buy-now/buyin...</td>\n",
       "    </tr>\n",
       "    <tr>\n",
       "      <th>4</th>\n",
       "      <td>What options do I have if I want to cancel my ...</td>\n",
       "      <td>If you've bought an item and made a mistake, e...</td>\n",
       "      <td>https://www.ebay.com/help/buying/buy-now/buyin...</td>\n",
       "    </tr>\n",
       "    <tr>\n",
       "      <th>...</th>\n",
       "      <td>...</td>\n",
       "      <td>...</td>\n",
       "      <td>...</td>\n",
       "    </tr>\n",
       "    <tr>\n",
       "      <th>1375</th>\n",
       "      <td>What is the new feature being introduced for e...</td>\n",
       "      <td>The new feature being introduced is combined s...</td>\n",
       "      <td>https://www.ebay.com/sellercenter/resources/se...</td>\n",
       "    </tr>\n",
       "    <tr>\n",
       "      <th>1376</th>\n",
       "      <td>How will combined shipping benefit buyers?</td>\n",
       "      <td>Combined shipping will offer lower shipping co...</td>\n",
       "      <td>https://www.ebay.com/sellercenter/resources/se...</td>\n",
       "    </tr>\n",
       "    <tr>\n",
       "      <th>1377</th>\n",
       "      <td>Can sellers offer multiple shipping options fo...</td>\n",
       "      <td>Yes, sellers will soon be able to offer both e...</td>\n",
       "      <td>https://www.ebay.com/sellercenter/resources/se...</td>\n",
       "    </tr>\n",
       "    <tr>\n",
       "      <th>1378</th>\n",
       "      <td>What are the current price limits for eBay Int...</td>\n",
       "      <td>Items up to $2,500 are eligible for eBay Inter...</td>\n",
       "      <td>https://www.ebay.com/sellercenter/resources/se...</td>\n",
       "    </tr>\n",
       "    <tr>\n",
       "      <th>1379</th>\n",
       "      <td>What will be the default shipping option shown...</td>\n",
       "      <td>During the initial launch, the default shippin...</td>\n",
       "      <td>https://www.ebay.com/sellercenter/resources/se...</td>\n",
       "    </tr>\n",
       "  </tbody>\n",
       "</table>\n",
       "<p>1380 rows × 3 columns</p>\n",
       "</div>"
      ]
     },
     "execution_count": 121,
     "metadata": {},
     "output_type": "execute_result"
    }
   ],
   "execution_count": 121
  },
  {
   "metadata": {
    "ExecuteTime": {
     "end_time": "2024-12-24T02:33:55.115550Z",
     "start_time": "2024-12-24T02:33:55.111034Z"
    }
   },
   "cell_type": "code",
   "source": "content_result",
   "id": "46e77f082df01548",
   "outputs": [
    {
     "data": {
      "text/plain": [
       "                                                   url  \\\n",
       "0    https://www.ebay.com/help/buying/buy-now/buyin...   \n",
       "1    https://www.ebay.com/help/buying/search-tips/w...   \n",
       "2    https://www.ebay.com/help/buying/search-tips/p...   \n",
       "3    https://www.ebay.com/help/buying/buy-now/makin...   \n",
       "4    https://www.ebay.com/help/buying/search-tips/r...   \n",
       "..                                                 ...   \n",
       "542  https://www.ebay.com/sellercenter/resources/ch...   \n",
       "543  https://www.ebay.com/sellercenter/resources/eb...   \n",
       "544  https://www.ebay.com/sellercenter/resources/ta...   \n",
       "545  https://www.ebay.com/sellercenter/resources/se...   \n",
       "546  https://www.ebay.com/srv/survey/a/selling.sell...   \n",
       "\n",
       "                                               content  \n",
       "0    Help webpage title: How buying works on eBay \\...  \n",
       "1    Help webpage title: Your Watchlist \\nHelp webp...  \n",
       "2    Help webpage title: Your purchase history \\nHe...  \n",
       "3    Help webpage title: Making a Best Offer \\nHelp...  \n",
       "4    Help webpage title: Your recently viewed items...  \n",
       "..                                                 ...  \n",
       "542  1099-K and Tax Withholding FAQs\\nImportant inf...  \n",
       "543  The eBay and TaxAct® Partnership\\nImportant in...  \n",
       "544  Tax information\\nUnderstand tax obligations th...  \n",
       "545  Seasonal playbook\\nGreat tips for any peak sel...  \n",
       "546                             Seller Center Feedback  \n",
       "\n",
       "[547 rows x 2 columns]"
      ],
      "text/html": [
       "<div>\n",
       "<style scoped>\n",
       "    .dataframe tbody tr th:only-of-type {\n",
       "        vertical-align: middle;\n",
       "    }\n",
       "\n",
       "    .dataframe tbody tr th {\n",
       "        vertical-align: top;\n",
       "    }\n",
       "\n",
       "    .dataframe thead th {\n",
       "        text-align: right;\n",
       "    }\n",
       "</style>\n",
       "<table border=\"1\" class=\"dataframe\">\n",
       "  <thead>\n",
       "    <tr style=\"text-align: right;\">\n",
       "      <th></th>\n",
       "      <th>url</th>\n",
       "      <th>content</th>\n",
       "    </tr>\n",
       "  </thead>\n",
       "  <tbody>\n",
       "    <tr>\n",
       "      <th>0</th>\n",
       "      <td>https://www.ebay.com/help/buying/buy-now/buyin...</td>\n",
       "      <td>Help webpage title: How buying works on eBay \\...</td>\n",
       "    </tr>\n",
       "    <tr>\n",
       "      <th>1</th>\n",
       "      <td>https://www.ebay.com/help/buying/search-tips/w...</td>\n",
       "      <td>Help webpage title: Your Watchlist \\nHelp webp...</td>\n",
       "    </tr>\n",
       "    <tr>\n",
       "      <th>2</th>\n",
       "      <td>https://www.ebay.com/help/buying/search-tips/p...</td>\n",
       "      <td>Help webpage title: Your purchase history \\nHe...</td>\n",
       "    </tr>\n",
       "    <tr>\n",
       "      <th>3</th>\n",
       "      <td>https://www.ebay.com/help/buying/buy-now/makin...</td>\n",
       "      <td>Help webpage title: Making a Best Offer \\nHelp...</td>\n",
       "    </tr>\n",
       "    <tr>\n",
       "      <th>4</th>\n",
       "      <td>https://www.ebay.com/help/buying/search-tips/r...</td>\n",
       "      <td>Help webpage title: Your recently viewed items...</td>\n",
       "    </tr>\n",
       "    <tr>\n",
       "      <th>...</th>\n",
       "      <td>...</td>\n",
       "      <td>...</td>\n",
       "    </tr>\n",
       "    <tr>\n",
       "      <th>542</th>\n",
       "      <td>https://www.ebay.com/sellercenter/resources/ch...</td>\n",
       "      <td>1099-K and Tax Withholding FAQs\\nImportant inf...</td>\n",
       "    </tr>\n",
       "    <tr>\n",
       "      <th>543</th>\n",
       "      <td>https://www.ebay.com/sellercenter/resources/eb...</td>\n",
       "      <td>The eBay and TaxAct® Partnership\\nImportant in...</td>\n",
       "    </tr>\n",
       "    <tr>\n",
       "      <th>544</th>\n",
       "      <td>https://www.ebay.com/sellercenter/resources/ta...</td>\n",
       "      <td>Tax information\\nUnderstand tax obligations th...</td>\n",
       "    </tr>\n",
       "    <tr>\n",
       "      <th>545</th>\n",
       "      <td>https://www.ebay.com/sellercenter/resources/se...</td>\n",
       "      <td>Seasonal playbook\\nGreat tips for any peak sel...</td>\n",
       "    </tr>\n",
       "    <tr>\n",
       "      <th>546</th>\n",
       "      <td>https://www.ebay.com/srv/survey/a/selling.sell...</td>\n",
       "      <td>Seller Center Feedback</td>\n",
       "    </tr>\n",
       "  </tbody>\n",
       "</table>\n",
       "<p>547 rows × 2 columns</p>\n",
       "</div>"
      ]
     },
     "execution_count": 122,
     "metadata": {},
     "output_type": "execute_result"
    }
   ],
   "execution_count": 122
  },
  {
   "metadata": {
    "ExecuteTime": {
     "end_time": "2024-12-24T02:33:55.675902Z",
     "start_time": "2024-12-24T02:33:55.594772Z"
    }
   },
   "cell_type": "code",
   "source": [
    "# Init the BM25 model\n",
    "token_corpus = content_result[\"content\"].apply(lambda x: list(filter(None, x.split()))).tolist()\n",
    "bm25 = BM25Okapi(token_corpus)"
   ],
   "id": "9bb82d674340f716",
   "outputs": [],
   "execution_count": 123
  },
  {
   "metadata": {
    "ExecuteTime": {
     "end_time": "2024-12-24T02:33:57.119029Z",
     "start_time": "2024-12-24T02:33:56.185822Z"
    }
   },
   "cell_type": "code",
   "source": [
    "url_list = content_result[\"url\"].tolist()\n",
    "tokenized_query = labeled_result[\"question\"].apply(lambda x: bm25.get_top_n(x.split(), url_list, n=5))"
   ],
   "id": "b100d8b1e988b325",
   "outputs": [],
   "execution_count": 124
  },
  {
   "metadata": {
    "ExecuteTime": {
     "end_time": "2024-12-24T02:33:57.130075Z",
     "start_time": "2024-12-24T02:33:57.122725Z"
    }
   },
   "cell_type": "code",
   "source": [
    "hit_rate = []\n",
    "i = 0\n",
    "\n",
    "for l in tokenized_query:\n",
    "    try:\n",
    "        hit_index = l.index(labeled_result[\"url\"][i])\n",
    "        hit_rate.append(l.index(labeled_result[\"url\"][i]))\n",
    "    except:\n",
    "        hit_rate.append(\"Faild\")\n",
    "    i += 1"
   ],
   "id": "3748c41da6b98240",
   "outputs": [],
   "execution_count": 125
  },
  {
   "metadata": {
    "ExecuteTime": {
     "end_time": "2024-12-24T02:33:57.368413Z",
     "start_time": "2024-12-24T02:33:57.364088Z"
    }
   },
   "cell_type": "code",
   "source": [
    "value_counts = pd.Series(hit_rate).value_counts()\n",
    "value_counts"
   ],
   "id": "6d9083f578d4e2d6",
   "outputs": [
    {
     "data": {
      "text/plain": [
       "0        562\n",
       "Faild    502\n",
       "1        161\n",
       "2         71\n",
       "3         58\n",
       "4         26\n",
       "Name: count, dtype: int64"
      ]
     },
     "execution_count": 126,
     "metadata": {},
     "output_type": "execute_result"
    }
   ],
   "execution_count": 126
  },
  {
   "metadata": {
    "ExecuteTime": {
     "end_time": "2024-12-24T02:33:57.891942Z",
     "start_time": "2024-12-24T02:33:57.889319Z"
    }
   },
   "cell_type": "code",
   "source": [
    "total_len = value_counts.sum()\n",
    "total_len"
   ],
   "id": "6345e6251f986e53",
   "outputs": [
    {
     "data": {
      "text/plain": [
       "1380"
      ]
     },
     "execution_count": 127,
     "metadata": {},
     "output_type": "execute_result"
    }
   ],
   "execution_count": 127
  },
  {
   "metadata": {
    "ExecuteTime": {
     "end_time": "2024-12-24T02:33:58.730543Z",
     "start_time": "2024-12-24T02:33:58.725784Z"
    }
   },
   "cell_type": "code",
   "source": [
    "value_counts = value_counts / total_len\n",
    "value_counts = value_counts[value_counts.index != \"Faild\"]\n",
    "value_counts"
   ],
   "id": "2a25e63488219a4a",
   "outputs": [
    {
     "data": {
      "text/plain": [
       "0    0.407246\n",
       "1    0.116667\n",
       "2    0.051449\n",
       "3    0.042029\n",
       "4    0.018841\n",
       "Name: count, dtype: float64"
      ]
     },
     "execution_count": 128,
     "metadata": {},
     "output_type": "execute_result"
    }
   ],
   "execution_count": 128
  },
  {
   "metadata": {
    "ExecuteTime": {
     "end_time": "2024-12-24T02:33:59.266929Z",
     "start_time": "2024-12-24T02:33:59.265081Z"
    }
   },
   "cell_type": "code",
   "source": [
    "# Get the top_N acc rate\n",
    "res = value_counts.cumsum()\n",
    "res = res.to_dict()"
   ],
   "id": "856cb083154eb642",
   "outputs": [],
   "execution_count": 129
  },
  {
   "metadata": {
    "ExecuteTime": {
     "end_time": "2024-12-24T02:33:59.907420Z",
     "start_time": "2024-12-24T02:33:59.902918Z"
    }
   },
   "cell_type": "code",
   "source": [
    "def calculate_mAP(hit_counts, total_cnt=1, k=5):\n",
    "    \"\"\"\n",
    "    Calculate the Mean Average Precision (mAP) based on hit counts and the total count.\n",
    "\n",
    "    Parameters:\n",
    "    hit_counts (dict): A dictionary where the key is the rank (1-based index), for example: {1: 1820, 2: 2132, 3: 2317, 4: 2440, 5: 2531})\n",
    "                       and the value is the number of hits up to that rank.\n",
    "    total_cnt (int): The total number of items for normalization.\n",
    "\n",
    "    Returns:\n",
    "    float: The calculated mAP value.\n",
    "    \"\"\"\n",
    "    # Initialize a list to store hits at each rank (0 to k)\n",
    "    hit_in_k = [0] * 5\n",
    "    # print(\"k is:\", k)\n",
    "    # print(\"hit_counts.items() is:\", hit_counts.items())\n",
    "    # Populate the list with cumulative hits at each rank from hit_counts\n",
    "    for idx, count in hit_counts.items():\n",
    "        hit_in_k[idx-1] = count\n",
    "\n",
    "    # Calculate hits at each individual rank by subtracting cumulative values\n",
    "    for i in range(k-1, 1, -1):\n",
    "        hit_in_k[i] = hit_in_k[i] - hit_in_k[i - 1]\n",
    "\n",
    "    # Compute the mAP by summing the precision at each rank and normalizing by total count\n",
    "    map = sum([hit_in_k[i] * 1 / i for i in range(1, k)]) / total_cnt\n",
    "\n",
    "    return map"
   ],
   "id": "e44dc9182465df71",
   "outputs": [],
   "execution_count": 130
  },
  {
   "metadata": {
    "ExecuteTime": {
     "end_time": "2024-12-24T02:34:00.692043Z",
     "start_time": "2024-12-24T02:34:00.688852Z"
    }
   },
   "cell_type": "code",
   "source": [
    "# calculate the mAP\n",
    "mAP = calculate_mAP(res, 1)\n",
    "mAP"
   ],
   "id": "891d24ce56eeacca",
   "outputs": [
    {
     "data": {
      "text/plain": [
       "0.5454106280193237"
      ]
     },
     "execution_count": 131,
     "metadata": {},
     "output_type": "execute_result"
    }
   ],
   "execution_count": 131
  },
  {
   "metadata": {
    "ExecuteTime": {
     "end_time": "2024-12-24T02:34:01.322375Z",
     "start_time": "2024-12-24T02:34:01.202212Z"
    }
   },
   "cell_type": "code",
   "source": [
    "vci = value_counts.index + 1\n",
    "\n",
    "name = [\"Top_\" + str(i) for i in vci.tolist()]\n",
    "\n",
    "name = name + [\"mAP\"]\n",
    "\n",
    "\n",
    "x = list(res.values()) + [mAP]\n",
    "x = [float(i) for i in x]\n",
    "print(\"Scores are:\", x)\n",
    "bar1 = plt.bar(name,x,label=\"BM25 Hit rate\")\n",
    "plt.xlabel(\"K Value\")\n",
    "plt.ylabel(\"Hit Rate\")\n",
    "plt.title(\"Hit Rates Comparison\")\n",
    "plt.legend()\n",
    "\n",
    "for bar in bar1:\n",
    "    plt.text(\n",
    "        bar.get_x() + bar.get_width() / 2,      # X-coordinate of the bar center\n",
    "        bar.get_height(),                       # Y-coordinate of the bar height\n",
    "        f'{bar.get_height():.2f}',              # Text (hit rate value)\n",
    "        ha='center', va='bottom', fontsize=10   # Alignment and font size\n",
    "    )\n",
    "\n",
    "# Show plot\n",
    "plt.show()"
   ],
   "id": "1a99f788ec2efca",
   "outputs": [
    {
     "name": "stdout",
     "output_type": "stream",
     "text": [
      "['Top_1', 'Top_2', 'Top_3', 'Top_4', 'Top_5', 'mAP']\n",
      "[0.4072463768115942, 0.5239130434782608, 0.5753623188405796, 0.6173913043478261, 0.636231884057971, 0.5454106280193237]\n"
     ]
    },
    {
     "data": {
      "text/plain": [
       "<Figure size 640x480 with 1 Axes>"
      ],
      "image/png": "[encoded data removed]"
     },
     "metadata": {},
     "output_type": "display_data"
    }
   ],
   "execution_count": 132
  },
  {
   "metadata": {},
   "cell_type": "code",
   "outputs": [],
   "execution_count": null,
   "source": "",
   "id": "5deb59b3daddc5f4"
  }
 ],
 "metadata": {
  "kernelspec": {
   "display_name": "Python 3",
   "language": "python",
   "name": "python3"
  },
  "language_info": {
   "codemirror_mode": {
    "name": "ipython",
    "version": 2
   },
   "file_extension": ".py",
   "mimetype": "text/x-python",
   "name": "python",
   "nbconvert_exporter": "python",
   "pygments_lexer": "ipython2",
   "version": "2.7.6"
  }
 },
 "nbformat": 4,
 "nbformat_minor": 5
}
